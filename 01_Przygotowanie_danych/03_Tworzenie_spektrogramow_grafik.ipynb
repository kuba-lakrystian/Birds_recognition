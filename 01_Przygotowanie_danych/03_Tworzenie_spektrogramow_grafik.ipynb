{
  "nbformat": 4,
  "nbformat_minor": 0,
  "metadata": {
    "colab": {
      "name": "03_Tworzenie_spektrogramow_grafik.ipynb",
      "provenance": [],
      "collapsed_sections": []
    },
    "kernelspec": {
      "name": "python3",
      "display_name": "Python 3"
    },
    "language_info": {
      "name": "python"
    }
  },
  "cells": [
    {
      "cell_type": "markdown",
      "metadata": {
        "id": "DvUBPKjTiW3c"
      },
      "source": [
        "Ładujemy pakiety"
      ]
    },
    {
      "cell_type": "code",
      "metadata": {
        "id": "-dudQuSRENLK"
      },
      "source": [
        "import matplotlib.pyplot as plt\n",
        "from matplotlib.backend_bases import RendererBase\n",
        "from scipy import signal\n",
        "from scipy.io import wavfile\n",
        "#import soundfile as sf\n",
        "import os\n",
        "import numpy as np\n",
        "from PIL import Image\n",
        "from scipy.fftpack import fft\n",
        "from google.colab import drive\n",
        "import librosa\n",
        "\n",
        "%matplotlib inline"
      ],
      "execution_count": 1,
      "outputs": []
    },
    {
      "cell_type": "markdown",
      "metadata": {
        "id": "g3W2i9VUibPY"
      },
      "source": [
        "Połączenie z Drive"
      ]
    },
    {
      "cell_type": "code",
      "metadata": {
        "colab": {
          "base_uri": "https://localhost:8080/"
        },
        "id": "kGAUdmtcFfv0",
        "outputId": "c0d85092-6e75-43c5-b72a-e4e808112593"
      },
      "source": [
        "drive.mount(\"/content/drive\")"
      ],
      "execution_count": 2,
      "outputs": [
        {
          "output_type": "stream",
          "text": [
            "Mounted at /content/drive\n"
          ],
          "name": "stdout"
        }
      ]
    },
    {
      "cell_type": "code",
      "metadata": {
        "id": "q72OSTSYEw8R"
      },
      "source": [
        "audio_path = '/content/drive/My Drive/01_Dane/01_Dzwieki'\n",
        "pict_Path = '/content/drive/My Drive/01_Dane/02_Spektrogramy'\n",
        "samples = []"
      ],
      "execution_count": 3,
      "outputs": []
    },
    {
      "cell_type": "markdown",
      "metadata": {
        "id": "uFF1GLriiys2"
      },
      "source": [
        "Wyciągamy nazwy podfolderów - gatunków ptaków"
      ]
    },
    {
      "cell_type": "code",
      "metadata": {
        "id": "NXzGI0boFWH9"
      },
      "source": [
        "subFolderList = []\n",
        "for x in os.listdir(audio_path):\n",
        "    if os.path.isdir(audio_path + '/' + x):\n",
        "        subFolderList.append(x)"
      ],
      "execution_count": 4,
      "outputs": []
    },
    {
      "cell_type": "markdown",
      "metadata": {
        "id": "yabSLWhsjGno"
      },
      "source": [
        "Tworzymy odpowiednie połączenia do ścieżek"
      ]
    },
    {
      "cell_type": "code",
      "metadata": {
        "id": "aobTb_JSFy_8"
      },
      "source": [
        "if not os.path.exists(pict_Path):\n",
        "    os.makedirs(pict_Path)\n",
        "\n",
        "subFolderList = []\n",
        "for x in os.listdir(audio_path):\n",
        "    if os.path.isdir(audio_path + '/' + x):\n",
        "        subFolderList.append(x)\n",
        "        if not os.path.exists(pict_Path + '/' + x):\n",
        "            os.makedirs(pict_Path +'/'+ x)"
      ],
      "execution_count": 6,
      "outputs": []
    },
    {
      "cell_type": "markdown",
      "metadata": {
        "id": "OYFjpVskjcAb"
      },
      "source": [
        "Tworzymy ścieżki każdego pliku dźwiękowego i liczymy, ile mamy plików per gatunek"
      ]
    },
    {
      "cell_type": "code",
      "metadata": {
        "id": "6n9yZSyeGyvk"
      },
      "source": [
        "sample_audio = []\n",
        "total = 0\n",
        "for x in subFolderList:\n",
        "        \n",
        "    all_files = [y for y in os.listdir(audio_path + '/' + x) if '.mp3' in y]\n",
        "    total += len(all_files)\n",
        "\n",
        "    sample_audio.append(audio_path + '/' + x + '/'+ all_files[0])\n",
        "    \n",
        "    print('count: %d : %s' % (len(all_files), x ))\n",
        "    \n",
        "print(total)"
      ],
      "execution_count": null,
      "outputs": []
    },
    {
      "cell_type": "markdown",
      "metadata": {
        "id": "rEjtXneNj8o6"
      },
      "source": [
        "Tworzymy funkcję generującą spektrogram"
      ]
    },
    {
      "cell_type": "code",
      "metadata": {
        "id": "H5dJjIkxIRBP"
      },
      "source": [
        "def log_specgram(audio, sample_rate, window_size=20,\n",
        "                 step_size=10, eps=1e-10):\n",
        "    nperseg = int(round(window_size * sample_rate / 1e3))\n",
        "    noverlap = int(round(step_size * sample_rate / 1e3))\n",
        "    freqs, _, spec = signal.spectrogram(audio,\n",
        "                                    fs=sample_rate,\n",
        "                                    window='hann',\n",
        "                                    nperseg=nperseg,\n",
        "                                    noverlap=noverlap,\n",
        "                                    detrend=False)\n",
        "    return freqs, np.log(spec.T.astype(np.float32) + eps)"
      ],
      "execution_count": null,
      "outputs": []
    },
    {
      "cell_type": "markdown",
      "metadata": {
        "id": "9lmmqdcFksaR"
      },
      "source": [
        "6 przykładowych spektrogramów"
      ]
    },
    {
      "cell_type": "code",
      "metadata": {
        "id": "O-a0j_h3ISu6"
      },
      "source": [
        "fig = plt.figure(figsize=(10,10))\n",
        "\n",
        "for i, filepath in enumerate(sample_audio[:9]):\n",
        "    \n",
        "    plt.subplot(3,3,i+1)\n",
        "    \n",
        "    label = filepath.split('/')[-2]\n",
        "    plt.title(label)\n",
        "    \n",
        "    test_sound, samplerate = librosa.load(filepath, res_type='kaiser_fast')\n",
        "    print(samplerate)\n",
        "    _, spectrogram = log_specgram(test_sound, samplerate)\n",
        "    \n",
        "    plt.imshow(spectrogram.T, aspect='auto', origin='lower')\n",
        "    plt.axis('off')\n",
        "\n",
        "    "
      ],
      "execution_count": null,
      "outputs": []
    },
    {
      "cell_type": "markdown",
      "metadata": {
        "id": "F3GQQ1-ckwmh"
      },
      "source": [
        "6 przykładowych waveformów"
      ]
    },
    {
      "cell_type": "code",
      "metadata": {
        "id": "z4OD7-9FaMBM"
      },
      "source": [
        "fig = plt.figure(figsize=(8,20))\n",
        "for i, filepath in enumerate(sample_audio[:6]):\n",
        "    plt.subplot(9,1,i+1)\n",
        "    test_sound, samplerate = librosa.load(filepath, res_type='kaiser_fast')\n",
        "    plt.title(filepath.split('/')[-2])\n",
        "    plt.axis('off')\n",
        "    plt.plot(test_sound)"
      ],
      "execution_count": null,
      "outputs": []
    },
    {
      "cell_type": "markdown",
      "metadata": {
        "id": "YSZr2AK2lGcw"
      },
      "source": [
        "Konwersja spektrogramu do .png"
      ]
    },
    {
      "cell_type": "code",
      "metadata": {
        "id": "T9zXkViROygR"
      },
      "source": [
        "def wav2img(wav_path, targetdir='', figsize=(4,4)):\n",
        "\n",
        "    fig = plt.figure(figsize=figsize)    \n",
        "    \n",
        "    test_sound, samplerate = librosa.load(filepath, res_type='kaiser_fast')\n",
        "    _, spectrogram = log_specgram(test_sound, samplerate)\n",
        "    \n",
        "    output_file = wav_path.split('/')[-1].split('.mp3')[0]\n",
        "    output_file = targetdir +'/'+ output_file\n",
        "\n",
        "    plt.imsave('%s.png' % output_file, spectrogram)\n",
        "    plt.close()"
      ],
      "execution_count": null,
      "outputs": []
    },
    {
      "cell_type": "markdown",
      "metadata": {
        "id": "dLCdKKo8lKBc"
      },
      "source": [
        "Konwersja waveform do .png"
      ]
    },
    {
      "cell_type": "code",
      "metadata": {
        "id": "vHDMjD6EO6iG"
      },
      "source": [
        "def wav2img_waveform(wav_path, targetdir='', figsize=(4,4)):\n",
        "\n",
        "    fig = plt.figure(figsize=figsize)\n",
        "\n",
        "    test_sound, samplerate = librosa.load(filepath, res_type='kaiser_fast')\n",
        "    \n",
        "    plt.plot(test_sound)\n",
        "    plt.axis('off')\n",
        "    output_file = wav_path.split('/')[-1].split('.mp3')[0]\n",
        "    output_file = targetdir +'/'+ output_file\n",
        "    \n",
        "    plt.savefig('%s.png' % output_file)\n",
        "    plt.close()"
      ],
      "execution_count": null,
      "outputs": []
    },
    {
      "cell_type": "markdown",
      "metadata": {
        "id": "_WTCMSSYlX81"
      },
      "source": [
        "Pętla zapisująca pliki .png"
      ]
    },
    {
      "cell_type": "code",
      "metadata": {
        "id": "n_ZKMLtFPAGh"
      },
      "source": [
        "for i, x in enumerate(subFolderList):\n",
        "    print(i, ':', x)\n",
        "    \n",
        "    all_files = [y for y in os.listdir(audio_path + '/' + x) if '.mp3' in y]\n",
        "    for file in all_files[:10]:\n",
        "        wav2img(audio_path + '/' + x + '/' + file, pict_Path + '/' + x)"
      ],
      "execution_count": null,
      "outputs": []
    },
    {
      "cell_type": "code",
      "metadata": {
        "id": "xXzewjDRa6fh"
      },
      "source": [
        "#https://www.kaggle.com/kubalakrystian/audio-data-conversion-to-images-eda/edit"
      ],
      "execution_count": null,
      "outputs": []
    }
  ]
}