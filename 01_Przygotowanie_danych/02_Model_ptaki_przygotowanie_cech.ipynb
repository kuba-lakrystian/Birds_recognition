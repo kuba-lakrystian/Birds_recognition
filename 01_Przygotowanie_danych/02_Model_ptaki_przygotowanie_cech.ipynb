{
 "cells": [
  {
   "cell_type": "markdown",
   "metadata": {
    "id": "uR-1m1k0u5P2"
   },
   "source": [
    "Ładujemy pakiety"
   ]
  },
  {
   "cell_type": "code",
   "execution_count": 3,
   "metadata": {
    "id": "orsKhBSnI2BZ"
   },
   "outputs": [],
   "source": [
    "import pandas as pd \n",
    "import librosa\n",
    "\n",
    "import numpy as np\n",
    "import os\n",
    "import torch\n",
    "import time\n",
    "#from google.colab import drive\n",
    "from numpy import save"
   ]
  },
  {
   "cell_type": "markdown",
   "metadata": {
    "id": "aXOO8LKKu9ik"
   },
   "source": [
    "Wczytujemy dane"
   ]
  },
  {
   "cell_type": "code",
   "execution_count": null,
   "metadata": {
    "colab": {
     "base_uri": "https://localhost:8080/"
    },
    "id": "94gfyeHDJRIc",
    "outputId": "1422e2d6-8040-47ec-b43c-5e5bd4faefbd"
   },
   "outputs": [
    {
     "name": "stdout",
     "output_type": "stream",
     "text": [
      "Mounted at /content/drive\n"
     ]
    }
   ],
   "source": [
    "drive.mount(\"/content/drive\")"
   ]
  },
  {
   "cell_type": "code",
   "execution_count": null,
   "metadata": {
    "id": "S67k-E9QJgVN"
   },
   "outputs": [],
   "source": [
    "statusy = pd.read_csv('/content/drive/My Drive/Projekt_ptaki/statusy.csv', encoding='cp1250')"
   ]
  },
  {
   "cell_type": "code",
   "execution_count": null,
   "metadata": {
    "id": "MViljesVJqKM"
   },
   "outputs": [],
   "source": [
    "statusy.head()"
   ]
  },
  {
   "cell_type": "markdown",
   "metadata": {
    "id": "bchgpBSvn8mo"
   },
   "source": [
    "Rozpakowujemy plik z dźwiękiem - jednorazowo, jeżeli nie jest rozpakowany na drive"
   ]
  },
  {
   "cell_type": "code",
   "execution_count": null,
   "metadata": {
    "id": "OC8oY051KZKJ"
   },
   "outputs": [],
   "source": [
    "#!pip install pyunpack\n",
    "#!pip install patool\n",
    "#from pyunpack import Archive\n",
    "#Archive('/content/drive/My Drive/Projekt_ptaki/01_Dzwieki.zip').extractall('/content/drive/My Drive/Projekt_ptaki/01_Dzwieki')"
   ]
  },
  {
   "cell_type": "markdown",
   "metadata": {
    "id": "W-64T55RvOjD"
   },
   "source": [
    "Właściwe wczytywanie dźwięku i tworzenie charakterystyk"
   ]
  },
  {
   "cell_type": "code",
   "execution_count": null,
   "metadata": {
    "id": "1gjlY3fbozEU"
   },
   "outputs": [],
   "source": [
    "def extract_features(files):\n",
    "  try:\n",
    "      file_name = os.path.join(os.path.abspath('/content/drive/My Drive/Projekt_ptaki/01_Dzwieki/01_Dzwieki')+'/'+str(files.link))\n",
    "      X, sample_rate = librosa.load(file_name, res_type='kaiser_fast')\n",
    "      mfccs = np.mean(librosa.feature.mfcc(y=X, sr=sample_rate, n_mfcc=40).T,axis=0)\n",
    "      stft = np.abs(librosa.stft(X))\n",
    "      chroma = np.mean(librosa.feature.chroma_stft(S=stft, sr=sample_rate).T,axis=0)\n",
    "      mel = np.mean(librosa.feature.melspectrogram(X, sr=sample_rate).T,axis=0)\n",
    "      contrast = np.mean(librosa.feature.spectral_contrast(S=stft, sr=sample_rate).T,axis=0)\n",
    "      tonnetz = np.mean(librosa.feature.tonnetz(y=librosa.effects.harmonic(X),\n",
    "      sr=sample_rate).T,axis=0)\n",
    "  \n",
    "  except ZeroDivisionError:\n",
    "      mfccs = np.zeros(40)\n",
    "      chroma = np.zeros(12)\n",
    "      mel = np.zeros(128)\n",
    "      contrast = np.zeros(7)\n",
    "      tonnetz = np.zeros(6)\n",
    "\n",
    "  return mfccs, chroma, mel, contrast, tonnetz"
   ]
  },
  {
   "cell_type": "code",
   "execution_count": null,
   "metadata": {
    "colab": {
     "base_uri": "https://localhost:8080/"
    },
    "id": "o7kceBwUWnOm",
    "outputId": "51e2cca5-41b7-4c8f-c743-07ec4b662e82"
   },
   "outputs": [
    {
     "name": "stderr",
     "output_type": "stream",
     "text": [
      " 13%|█▎        | 326/2585 [34:31<3:51:32,  6.15s/it]/usr/local/lib/python3.6/dist-packages/librosa/core/pitch.py:145: UserWarning: Trying to estimate tuning from empty frequency set.\n",
      "  warnings.warn('Trying to estimate tuning from empty frequency set.')\n",
      " 23%|██▎       | 591/2585 [1:04:03<2:42:16,  4.88s/it]/usr/local/lib/python3.6/dist-packages/librosa/core/pitch.py:145: UserWarning: Trying to estimate tuning from empty frequency set.\n",
      "  warnings.warn('Trying to estimate tuning from empty frequency set.')\n",
      " 57%|█████▋    | 1479/2585 [2:17:11<1:30:49,  4.93s/it]/usr/local/lib/python3.6/dist-packages/librosa/core/pitch.py:145: UserWarning: Trying to estimate tuning from empty frequency set.\n",
      "  warnings.warn('Trying to estimate tuning from empty frequency set.')\n",
      " 66%|██████▌   | 1709/2585 [2:38:17<1:47:56,  7.39s/it]/usr/local/lib/python3.6/dist-packages/librosa/core/pitch.py:145: UserWarning: Trying to estimate tuning from empty frequency set.\n",
      "  warnings.warn('Trying to estimate tuning from empty frequency set.')\n",
      " 77%|███████▋  | 1998/2585 [3:08:41<38:08,  3.90s/it]/usr/local/lib/python3.6/dist-packages/librosa/core/pitch.py:145: UserWarning: Trying to estimate tuning from empty frequency set.\n",
      "  warnings.warn('Trying to estimate tuning from empty frequency set.')\n",
      "100%|██████████| 2585/2585 [4:17:22<00:00,  5.97s/it]"
     ]
    },
    {
     "name": "stdout",
     "output_type": "stream",
     "text": [
      "Time:  15442.091955988\n"
     ]
    },
    {
     "name": "stderr",
     "output_type": "stream",
     "text": [
      "\n"
     ]
    }
   ],
   "source": [
    "import timeit\n",
    "from tqdm import tqdm\n",
    "\n",
    "tqdm.pandas()\n",
    "\n",
    "start = timeit.default_timer()\n",
    "\n",
    "train_features = statusy.progress_apply(extract_features, axis=1)\n",
    "\n",
    "stop = timeit.default_timer()\n",
    "\n",
    "print('Time: ', stop - start)  \n",
    "\n",
    "features_train = []\n",
    "for i in range(0, len(train_features)):\n",
    "    features_train.append(np.concatenate((\n",
    "        train_features[i][0],\n",
    "        train_features[i][1], \n",
    "        train_features[i][2], \n",
    "        train_features[i][3],\n",
    "        train_features[i][4]), axis=0))\n",
    "    \n",
    "X_train = np.array(features_train)\n",
    "\n",
    "np.save(\"drive/My Drive/Projekt_ptaki/cechy.npy\", X_train)\n"
   ]
  },
  {
   "cell_type": "code",
   "execution_count": null,
   "metadata": {
    "id": "xfbxkMUhadre"
   },
   "outputs": [],
   "source": [
    "X_train = np.load(\"drive/My Drive/Projekt_ptaki/cechy.npy\")"
   ]
  }
 ],
 "metadata": {
  "colab": {
   "collapsed_sections": [],
   "name": "01_Model_ptaki_przygotowanie_danych",
   "provenance": []
  },
  "kernelspec": {
   "display_name": "Python 3",
   "language": "python",
   "name": "python3"
  },
  "language_info": {
   "codemirror_mode": {
    "name": "ipython",
    "version": 3
   },
   "file_extension": ".py",
   "mimetype": "text/x-python",
   "name": "python",
   "nbconvert_exporter": "python",
   "pygments_lexer": "ipython3",
   "version": "3.6.4"
  }
 },
 "nbformat": 4,
 "nbformat_minor": 1
}
