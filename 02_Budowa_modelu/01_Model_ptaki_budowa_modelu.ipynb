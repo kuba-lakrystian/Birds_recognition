{
 "cells": [
  {
   "cell_type": "markdown",
   "metadata": {
    "id": "kx1aDp_PRP1S"
   },
   "source": [
    "Pakiety"
   ]
  },
  {
   "cell_type": "code",
   "execution_count": null,
   "metadata": {
    "id": "-YbNEiPAtXGb"
   },
   "outputs": [],
   "source": [
    "import pandas as pd \n",
    "import librosa\n",
    "\n",
    "import numpy as np\n",
    "import os\n",
    "import torch\n",
    "import time\n",
    "from google.colab import drive\n",
    "from numpy import save\n",
    "from sklearn.model_selection import train_test_split\n",
    "\n",
    "import matplotlib.pyplot as plt\n",
    "from imblearn.over_sampling import SMOTE\n",
    "\n",
    "from sklearn.feature_selection import SelectKBest\n",
    "from sklearn.feature_selection import f_classif\n",
    "\n",
    "from sklearn.preprocessing import LabelEncoder\n",
    "from keras.utils.np_utils import to_categorical\n",
    "\n",
    "from sklearn.preprocessing import StandardScaler\n",
    "from sklearn.metrics import f1_score\n"
   ]
  },
  {
   "cell_type": "markdown",
   "metadata": {
    "id": "DQ55Zk26RUuM"
   },
   "source": [
    "Połączenie do Drive"
   ]
  },
  {
   "cell_type": "code",
   "execution_count": null,
   "metadata": {
    "colab": {
     "base_uri": "https://localhost:8080/"
    },
    "id": "9z1Hpye8tfLb",
    "outputId": "58dea466-a278-4c66-a87d-483114311d25"
   },
   "outputs": [
    {
     "name": "stdout",
     "output_type": "stream",
     "text": [
      "Mounted at /content/drive\n"
     ]
    }
   ],
   "source": [
    "drive.mount(\"/content/drive\")"
   ]
  },
  {
   "cell_type": "markdown",
   "metadata": {
    "id": "0WBd2jrVmhGv"
   },
   "source": [
    "Wczytujemy dane do modelowania"
   ]
  },
  {
   "cell_type": "code",
   "execution_count": null,
   "metadata": {
    "id": "a2drS38wtm9y"
   },
   "outputs": [],
   "source": [
    "statusy = pd.read_csv('/content/drive/My Drive/Projekt_ptaki/statusy.csv', encoding='cp1250')\n",
    "y = np.array(statusy['species'])\n",
    "X = np.load(\"drive/My Drive/Projekt_ptaki/cechy.npy\")"
   ]
  },
  {
   "cell_type": "markdown",
   "metadata": {
    "id": "LK_H4DLOmkxx"
   },
   "source": [
    "Usuwamy puste obserwacje (wypełnione wcześniej zerami)"
   ]
  },
  {
   "cell_type": "code",
   "execution_count": null,
   "metadata": {
    "id": "Bv-_YPkr8RhF"
   },
   "outputs": [],
   "source": [
    "do_wykl = np.where(~X.any(axis=1))[0]\n",
    "X = np.delete(X, do_wykl, axis=0)\n",
    "y = np.delete(y, do_wykl, axis=0)"
   ]
  },
  {
   "cell_type": "markdown",
   "metadata": {
    "id": "yxxT422jRfOY"
   },
   "source": [
    "Wybieramy 50 najlepszych cech (gdy bierzemy więcej, moc nie wzrasta, a tworzy się overfitting)"
   ]
  },
  {
   "cell_type": "code",
   "execution_count": null,
   "metadata": {
    "id": "5G-QWadkGEtG"
   },
   "outputs": [],
   "source": [
    "selector = SelectKBest(f_classif, k=100)\n",
    "selected_features = selector.fit_transform(X, y)"
   ]
  },
  {
   "cell_type": "markdown",
   "metadata": {
    "id": "7X0REVqit0zt"
   },
   "source": [
    "Podział train - test"
   ]
  },
  {
   "cell_type": "code",
   "execution_count": null,
   "metadata": {
    "id": "LWWvyObsxHeb"
   },
   "outputs": [],
   "source": [
    "X_train, X_test, y_train, y_test = train_test_split(selected_features, y, test_size=0.3, random_state=1234) #, stratify = y)"
   ]
  },
  {
   "cell_type": "markdown",
   "metadata": {
    "id": "bPDiJqnFRlcN"
   },
   "source": [
    "SMOTE - do zbilansowania próby"
   ]
  },
  {
   "cell_type": "code",
   "execution_count": null,
   "metadata": {
    "id": "nc6PdngZ6nsb"
   },
   "outputs": [],
   "source": [
    "oversample = SMOTE()\n",
    "X_train, y_train = oversample.fit_resample(X_train, y_train)"
   ]
  },
  {
   "cell_type": "markdown",
   "metadata": {
    "id": "e4iYBNlgRrBG"
   },
   "source": [
    "Konwertujemy zmienną zależną do postaci kategorycznej"
   ]
  },
  {
   "cell_type": "code",
   "execution_count": null,
   "metadata": {
    "id": "cCKyAqQLtyT1"
   },
   "outputs": [],
   "source": [
    "lb = LabelEncoder()\n",
    "y_train_encod = to_categorical(lb.fit_transform(y_train))\n",
    "y_test_encod = to_categorical(lb.fit_transform(y_test))"
   ]
  },
  {
   "cell_type": "markdown",
   "metadata": {
    "id": "LKEnd19Bm_nI"
   },
   "source": [
    "Skalujemy zmienne niezależne"
   ]
  },
  {
   "cell_type": "code",
   "execution_count": null,
   "metadata": {
    "id": "4JuLu-O7t3iu"
   },
   "outputs": [],
   "source": [
    "ss = StandardScaler()\n",
    "X_train = ss.fit_transform(X_train)\n",
    "X_test = ss.fit_transform(X_test)"
   ]
  },
  {
   "cell_type": "markdown",
   "metadata": {
    "id": "ZD6ZP_DoRx5w"
   },
   "source": [
    "Standardowy Multilayer Perceptron"
   ]
  },
  {
   "cell_type": "code",
   "execution_count": null,
   "metadata": {
    "id": "pZitUx6Rt5We"
   },
   "outputs": [],
   "source": [
    "from keras.models import Sequential\n",
    "from keras.layers import Dense, Dropout, Activation, Flatten\n",
    "from keras.callbacks import EarlyStopping\n",
    "\n",
    "model = Sequential()\n",
    "model.add(Dense(512, input_dim = X_train.shape[1], activation = 'relu')) #128\n",
    "model.add(Dropout(0.6)) #0.4\n",
    "model.add(Dense(256, activation = 'relu')) #64\n",
    "model.add(Dropout(0.5))\n",
    "model.add(Dense(30, activation = 'softmax'))\n",
    "model.compile(loss='categorical_crossentropy', metrics=['accuracy'], optimizer='adam')\n",
    "early_stop = EarlyStopping(monitor='val_loss', patience=50)"
   ]
  },
  {
   "cell_type": "code",
   "execution_count": null,
   "metadata": {
    "id": "CNEdjbmat6_p"
   },
   "outputs": [],
   "source": [
    "history = model.fit(X_train, y_train_encod, batch_size=256, epochs=500, \n",
    "                    validation_data=(X_test, y_test_encod),\n",
    "                    callbacks=[early_stop])"
   ]
  },
  {
   "cell_type": "markdown",
   "metadata": {
    "id": "ILSJEMw_nLDG"
   },
   "source": [
    "Tworzymy predykcje z modelu"
   ]
  },
  {
   "cell_type": "code",
   "execution_count": null,
   "metadata": {
    "id": "Pz-eFC3WuDO0"
   },
   "outputs": [],
   "source": [
    "predictions_train = model.predict_classes(X_train)\n",
    "predictions_test = model.predict_classes(X_test)\n",
    "\n",
    "predictions_train = lb.inverse_transform(predictions_train)\n",
    "predictions_test = lb.inverse_transform(predictions_test)\n"
   ]
  },
  {
   "cell_type": "markdown",
   "metadata": {
    "id": "CpbbTX3NnVbm"
   },
   "source": [
    "Accuracy na zbiorze train"
   ]
  },
  {
   "cell_type": "code",
   "execution_count": null,
   "metadata": {
    "colab": {
     "base_uri": "https://localhost:8080/"
    },
    "id": "SpLsu0eguI3h",
    "outputId": "1fd8ba63-88c9-4d64-f71e-15100920bf71"
   },
   "outputs": [
    {
     "data": {
      "text/plain": [
       "88.8"
      ]
     },
     "execution_count": 145,
     "metadata": {
      "tags": []
     },
     "output_type": "execute_result"
    }
   ],
   "source": [
    "(1-round(sum(y_train != predictions_train)/len(y_train),3))*100"
   ]
  },
  {
   "cell_type": "markdown",
   "metadata": {
    "id": "6arJ4eeCnZP6"
   },
   "source": [
    "Accuracy na zbiorze testowym"
   ]
  },
  {
   "cell_type": "code",
   "execution_count": null,
   "metadata": {
    "colab": {
     "base_uri": "https://localhost:8080/"
    },
    "id": "JH6GhsUgz9oe",
    "outputId": "2e42032d-c85e-4cda-f33f-8741c15faa54"
   },
   "outputs": [
    {
     "data": {
      "text/plain": [
       "48.1"
      ]
     },
     "execution_count": 144,
     "metadata": {
      "tags": []
     },
     "output_type": "execute_result"
    }
   ],
   "source": [
    "(1-round(sum(y_test != predictions_test)/len(y_test),3))*100"
   ]
  },
  {
   "cell_type": "markdown",
   "metadata": {
    "id": "febzPz3rnb5F"
   },
   "source": [
    "F1 Score na zbiorze testowym"
   ]
  },
  {
   "cell_type": "code",
   "execution_count": null,
   "metadata": {
    "colab": {
     "base_uri": "https://localhost:8080/"
    },
    "id": "5FGB5RO_0AFO",
    "outputId": "6121df20-6992-4a37-b865-856472cf06c4"
   },
   "outputs": [
    {
     "data": {
      "text/plain": [
       "0.4806701030927835"
      ]
     },
     "execution_count": 147,
     "metadata": {
      "tags": []
     },
     "output_type": "execute_result"
    }
   ],
   "source": [
    "f1_score(y_test, predictions_test, average = 'micro') "
   ]
  },
  {
   "cell_type": "markdown",
   "metadata": {
    "id": "wyv5-ONXnh-c"
   },
   "source": [
    "Zapis modelu"
   ]
  },
  {
   "cell_type": "code",
   "execution_count": null,
   "metadata": {
    "id": "sUXNvgmBHRGl"
   },
   "outputs": [],
   "source": [
    "model.save('drive/My Drive/Projekt_ptaki/model_cnn.h5')"
   ]
  },
  {
   "cell_type": "markdown",
   "metadata": {
    "id": "x22iTnEfnj92"
   },
   "source": [
    "Wczytanie modelu"
   ]
  },
  {
   "cell_type": "code",
   "execution_count": null,
   "metadata": {
    "id": "U7EonMwT7V70"
   },
   "outputs": [],
   "source": [
    "model = keras.models.load_model('drive/My Drive/Projekt_ptaki/model_cnn.h5')"
   ]
  },
  {
   "cell_type": "markdown",
   "metadata": {
    "id": "bKN6gWPNSSlO"
   },
   "source": [
    "LSTM"
   ]
  },
  {
   "cell_type": "code",
   "execution_count": null,
   "metadata": {
    "id": "u1V_kOfTSO8n"
   },
   "outputs": [],
   "source": [
    "from tensorflow.keras.layers import LSTM\n",
    "model_new = Sequential()\n",
    "model_new.add(LSTM(units=256, dropout=0.6, recurrent_dropout=0.20, return_sequences=True,input_shape = (1, X_train.shape[1])))\n",
    "model_new.add(LSTM(units=128, dropout=0.5, recurrent_dropout=0.20, return_sequences=False))\n",
    "model_new.add(Dense(30, activation='softmax'))\n",
    "model_new.compile(loss='categorical_crossentropy', optimizer='Adamax', metrics=['acc','mse', 'mae', 'mape'])\n",
    "early_stop = EarlyStopping(monitor='val_loss', patience=50)"
   ]
  },
  {
   "cell_type": "markdown",
   "metadata": {
    "id": "2UEL5C8enqRV"
   },
   "source": [
    "Konwersja danych do wymiarów potrzebnych do zbudowania LSTM"
   ]
  },
  {
   "cell_type": "code",
   "execution_count": null,
   "metadata": {
    "id": "znm6urmISWgH"
   },
   "outputs": [],
   "source": [
    "X_train_remod = np.reshape(X_train, (X_train.shape[0], 1, X_train.shape[1]))\n",
    "X_test_remod = np.reshape(X_test, (X_test.shape[0], 1, X_test.shape[1]))"
   ]
  },
  {
   "cell_type": "markdown",
   "metadata": {
    "id": "c2lwZ7wDnv7P"
   },
   "source": [
    "Trenowanie modelu"
   ]
  },
  {
   "cell_type": "code",
   "execution_count": null,
   "metadata": {
    "id": "fbxdq_vaSjY9"
   },
   "outputs": [],
   "source": [
    "history_new = model_new.fit(X_train_remod, y_train_encod, batch_size=256, epochs=250, \n",
    "                    validation_data=(X_test_remod, y_test_encod),\n",
    "                    callbacks=[early_stop])"
   ]
  },
  {
   "cell_type": "markdown",
   "metadata": {
    "id": "NK3HxfZPn3By"
   },
   "source": [
    "Tworzymy predykcje z modelu"
   ]
  },
  {
   "cell_type": "code",
   "execution_count": null,
   "metadata": {
    "id": "1sqljdAJSbuK"
   },
   "outputs": [],
   "source": [
    "predictions_train = model_new.predict_classes(X_train_remod)\n",
    "predictions_test = model_new.predict_classes(X_test_remod)\n",
    "\n",
    "predictions_train = lb.inverse_transform(predictions_train)\n",
    "predictions_test = lb.inverse_transform(predictions_test)"
   ]
  },
  {
   "cell_type": "markdown",
   "metadata": {
    "id": "m5FnErJQn-M2"
   },
   "source": [
    "Accuracy na zbiorze train"
   ]
  },
  {
   "cell_type": "code",
   "execution_count": null,
   "metadata": {
    "colab": {
     "base_uri": "https://localhost:8080/"
    },
    "id": "toptlvBNTUT8",
    "outputId": "6a425411-4784-47f4-b886-4a5e729d1b0e"
   },
   "outputs": [
    {
     "data": {
      "text/plain": [
       "53.49999999999999"
      ]
     },
     "execution_count": 33,
     "metadata": {
      "tags": []
     },
     "output_type": "execute_result"
    }
   ],
   "source": [
    "(1-round(sum(y_train != predictions_train)/len(y_train),3))*100"
   ]
  },
  {
   "cell_type": "markdown",
   "metadata": {
    "id": "EpkO4wo9oA09"
   },
   "source": [
    "Accuracy na zbiorze testowym"
   ]
  },
  {
   "cell_type": "code",
   "execution_count": null,
   "metadata": {
    "colab": {
     "base_uri": "https://localhost:8080/"
    },
    "id": "Q95qmb9eTYVq",
    "outputId": "5952cfcc-8e44-47bf-a328-b8019610ea76"
   },
   "outputs": [
    {
     "data": {
      "text/plain": [
       "34.699999999999996"
      ]
     },
     "execution_count": 34,
     "metadata": {
      "tags": []
     },
     "output_type": "execute_result"
    }
   ],
   "source": [
    "(1-round(sum(y_test != predictions_test)/len(y_test),3))*100"
   ]
  },
  {
   "cell_type": "markdown",
   "metadata": {
    "id": "9dbuIqy6oEXG"
   },
   "source": [
    "F1 Score na zbiorze testowym"
   ]
  },
  {
   "cell_type": "code",
   "execution_count": null,
   "metadata": {
    "colab": {
     "base_uri": "https://localhost:8080/"
    },
    "id": "Cxr3qQ7KxcwQ",
    "outputId": "e2c572cf-5f3a-4f35-a41b-7908be65b031"
   },
   "outputs": [
    {
     "data": {
      "text/plain": [
       "0.34664948453608246"
      ]
     },
     "execution_count": 35,
     "metadata": {
      "tags": []
     },
     "output_type": "execute_result"
    }
   ],
   "source": [
    "f1_score(y_test, predictions_test, average = 'micro') "
   ]
  },
  {
   "cell_type": "markdown",
   "metadata": {
    "id": "ksKsh2KooHN5"
   },
   "source": [
    "Zapis modelu"
   ]
  },
  {
   "cell_type": "code",
   "execution_count": null,
   "metadata": {
    "id": "2EvRdv2H1u9a"
   },
   "outputs": [],
   "source": [
    "model_new.save('drive/My Drive/Projekt_ptaki/model_lstm_1.h5')"
   ]
  },
  {
   "cell_type": "code",
   "execution_count": null,
   "metadata": {
    "id": "Ly3Qxk9KVBem"
   },
   "outputs": [],
   "source": [
    "#https://medium.com/analytics-vidhya/adding-noise-to-audio-clips-5d8cee24ccb8\n",
    "#https://becominghuman.ai/musical-instrument-sound-classification-using-cnn-part-2-2-aaa668a3862a"
   ]
  }
 ],
 "metadata": {
  "accelerator": "GPU",
  "colab": {
   "collapsed_sections": [],
   "name": "02_Model_ptaki_budowa_modelu",
   "provenance": []
  },
  "kernelspec": {
   "display_name": "Python 3",
   "language": "python",
   "name": "python3"
  },
  "language_info": {
   "codemirror_mode": {
    "name": "ipython",
    "version": 3
   },
   "file_extension": ".py",
   "mimetype": "text/x-python",
   "name": "python",
   "nbconvert_exporter": "python",
   "pygments_lexer": "ipython3",
   "version": "3.6.4"
  }
 },
 "nbformat": 4,
 "nbformat_minor": 1
}
