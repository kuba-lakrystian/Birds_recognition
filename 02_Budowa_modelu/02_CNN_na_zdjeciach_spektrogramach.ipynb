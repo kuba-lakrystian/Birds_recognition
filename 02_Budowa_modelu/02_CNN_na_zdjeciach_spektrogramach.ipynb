{
  "nbformat": 4,
  "nbformat_minor": 0,
  "metadata": {
    "colab": {
      "name": "04_CNN_na_zdjeciach",
      "provenance": [],
      "collapsed_sections": []
    },
    "kernelspec": {
      "name": "python3",
      "display_name": "Python 3"
    },
    "language_info": {
      "name": "python"
    },
    "accelerator": "GPU"
  },
  "cells": [
    {
      "cell_type": "markdown",
      "metadata": {
        "id": "oKYMQS-QpRrQ"
      },
      "source": [
        "Wczytujemy pakiety"
      ]
    },
    {
      "cell_type": "code",
      "metadata": {
        "id": "Tjk8b0TzPMHa"
      },
      "source": [
        "import numpy as np\n",
        "import pandas as pd\n",
        "import matplotlib.pyplot as plt\n",
        "import seaborn as sns\n",
        "from google.colab import drive\n",
        "\n",
        "from PIL import Image\n",
        "\n",
        "import cv2\n",
        "import os\n",
        "\n",
        "from keras.preprocessing.image import ImageDataGenerator, load_img, img_to_array\n",
        "from numpy import expand_dims\n",
        "\n",
        "from keras.models import Sequential\n",
        "from keras.layers import Flatten, Dense, Conv2D, MaxPooling2D, Dropout, BatchNormalization, ZeroPadding2D #average pooling, global average pooling can be taken as well, \n",
        "from keras.optimizers import Adam\n",
        "from keras import callbacks\n",
        "import datetime\n",
        "import keras"
      ],
      "execution_count": 1,
      "outputs": []
    },
    {
      "cell_type": "markdown",
      "metadata": {
        "id": "WdIKsHeTpUyN"
      },
      "source": [
        "Połączenie do Drive"
      ]
    },
    {
      "cell_type": "code",
      "metadata": {
        "colab": {
          "base_uri": "https://localhost:8080/"
        },
        "id": "TMPkkr4pQAEc",
        "outputId": "8088d970-16b0-4ce1-aa18-a5a105585435"
      },
      "source": [
        "drive.mount(\"/content/drive\")"
      ],
      "execution_count": 5,
      "outputs": [
        {
          "output_type": "stream",
          "text": [
            "Mounted at /content/drive\n"
          ],
          "name": "stdout"
        }
      ]
    },
    {
      "cell_type": "markdown",
      "metadata": {
        "id": "8f8QQGSGpX0-"
      },
      "source": [
        "Lokalizacje spektrogramów dla każdego zbioru"
      ]
    },
    {
      "cell_type": "code",
      "metadata": {
        "id": "PslcRAGWPnQi"
      },
      "source": [
        "train_folder = \"/content/drive/My Drive/01_Dane/02_Spektrogramy/01_Zdjecia/train/\"\n",
        "test_folder = \"/content/drive/My Drive/01_Dane/02_Spektrogramy/01_Zdjecia/test/\"\n",
        "val_folder = \"/content/drive/My Drive/01_Dane/02_Spektrogramy/01_Zdjecia/val/\""
      ],
      "execution_count": 6,
      "outputs": []
    },
    {
      "cell_type": "markdown",
      "metadata": {
        "id": "9zgHxAQkpchl"
      },
      "source": [
        "Jak wyglądają przykładowe spektrogramy?"
      ]
    },
    {
      "cell_type": "code",
      "metadata": {
        "colab": {
          "base_uri": "https://localhost:8080/",
          "height": 612
        },
        "id": "M5Y804ZcRIxg",
        "outputId": "c415af4c-cf4b-4d34-e216-a5ac0e468f56"
      },
      "source": [
        "norm_image = Image.open(train_folder +'banswa/XC138517.png')\n",
        "\n",
        "fig = plt.figure(figsize=(12,10))\n",
        "img_plot = plt.imshow(norm_image, cmap = plt.cm.bone)\n",
        "a1.set_title('Normal X-Ray', fontsize=12)"
      ],
      "execution_count": 9,
      "outputs": [
        {
          "output_type": "execute_result",
          "data": {
            "text/plain": [
              "Text(0.5, 1.0, 'Normal X-Ray')"
            ]
          },
          "metadata": {
            "tags": []
          },
          "execution_count": 9
        },
        {
          "output_type": "display_data",
          "data": {
            "image/png": "[encoded data removed]",
            "text/plain": [
              "<Figure size 864x720 with 1 Axes>"
            ]
          },
          "metadata": {
            "tags": [],
            "needs_background": "light"
          }
        }
      ]
    },
    {
      "cell_type": "markdown",
      "metadata": {
        "id": "H1AY2uiIsKqj"
      },
      "source": [
        "Aplikujemy przekształcenia, aby zwiększyć zbiór treningowy: shear_range (czyli ciągniemy obraz w stronę jednego z narożników, aż staje się pochyły), zoom_range (losowo przybliżamy i oddalamy obrazki), height_shift_range (przesuwamy obrazki do góry), width_shift_range (przesuwamy obrazki w prawo). Oraz skalowanie wartości. Dla zbiorów: testowego i walidacyjnego nie nakładamy przekształćeń, jedynie skalowanie."
      ]
    },
    {
      "cell_type": "code",
      "metadata": {
        "id": "SZt-gdS5echM"
      },
      "source": [
        "train_datagen = ImageDataGenerator(rescale= 1./255, shear_range=0.2, zoom_range= 0.2, height_shift_range= 0.1, width_shift_range= 0.1, \n",
        "                                   fill_mode='nearest')\n",
        "test_datagen = ImageDataGenerator (rescale=1./255) "
      ],
      "execution_count": 7,
      "outputs": []
    },
    {
      "cell_type": "markdown",
      "metadata": {
        "id": "LjERnI9HtHBK"
      },
      "source": [
        "Tworzenie batchy"
      ]
    },
    {
      "cell_type": "code",
      "metadata": {
        "colab": {
          "base_uri": "https://localhost:8080/"
        },
        "id": "YeN-uYUwen2y",
        "outputId": "8e7ef47c-5fae-44e0-9dd0-0443c57c06a0"
      },
      "source": [
        "train_set = train_datagen.flow_from_directory(train_folder, target_size=(224,224), batch_size= 32, class_mode='categorical')\n",
        "test_set = test_datagen.flow_from_directory(test_folder, target_size=(224,224), batch_size= 32, class_mode='categorical')\n",
        "val_set = test_datagen.flow_from_directory(val_folder, target_size=(224,224), batch_size= 32, class_mode='categorical')"
      ],
      "execution_count": 8,
      "outputs": [
        {
          "output_type": "stream",
          "text": [
            "Found 210 images belonging to 30 classes.\n",
            "Found 60 images belonging to 30 classes.\n",
            "Found 30 images belonging to 30 classes.\n"
          ],
          "name": "stdout"
        }
      ]
    },
    {
      "cell_type": "markdown",
      "metadata": {
        "id": "D8zynddxtON-"
      },
      "source": [
        "Definiujemy architekturę modelu"
      ]
    },
    {
      "cell_type": "code",
      "metadata": {
        "id": "enhtVWmOe-bJ"
      },
      "source": [
        "def build_model():\n",
        "    model = Sequential()\n",
        "\n",
        "    # Convolutional layer - I\n",
        "    model.add(ZeroPadding2D((1,1), input_shape = train_set.image_shape))\n",
        "    model.add(Conv2D(filters= 64, kernel_size=(3,3), activation= 'relu'))\n",
        "    model.add(MaxPooling2D(pool_size=(2,2), strides=(2,2)))\n",
        "\n",
        "    # Convolutional layer - II\n",
        "    model.add(ZeroPadding2D((1,1)))\n",
        "    model.add(Conv2D(filters= 128, kernel_size=(3,3), activation= 'relu'))\n",
        "    model.add(MaxPooling2D(pool_size=(2,2), strides=(2,2)))\n",
        "\n",
        "    # Convolutional layer - III\n",
        "    model.add(ZeroPadding2D((1,1)))\n",
        "    model.add(Conv2D(filters= 256, kernel_size=(3,3), activation= 'relu'))\n",
        "    model.add(MaxPooling2D(pool_size=(2,2), strides=(2,2)))\n",
        "\n",
        "    # Convolutional layer - IV\n",
        "    model.add(ZeroPadding2D((1,1)))\n",
        "    model.add(Conv2D(filters= 512, kernel_size=(3,3), activation= 'relu'))\n",
        "    model.add(MaxPooling2D(pool_size=(2,2), strides=(2,2)))\n",
        "\n",
        "    model.add(Flatten())\n",
        "\n",
        "    # Fully Connected Layer\n",
        "    model.add(Dense(units = 256, activation='relu'))\n",
        "    model.add(Dropout(0.5))\n",
        "    model.add(Dense(units= 30, activation='softmax'))\n",
        "\n",
        "    # Learning Rate, optimizers-Adam\n",
        "    adam_optimizer = Adam(learning_rate= 0.0001)\n",
        "\n",
        "    # loss = categorical_crossentropy\n",
        "    model.compile(optimizer = adam_optimizer, loss = 'categorical_crossentropy', metrics = ['accuracy'])\n",
        "    \n",
        "    return model"
      ],
      "execution_count": 9,
      "outputs": []
    },
    {
      "cell_type": "code",
      "metadata": {
        "id": "3QiaqLMqfEhM"
      },
      "source": [
        "model = build_model()"
      ],
      "execution_count": 10,
      "outputs": []
    },
    {
      "cell_type": "markdown",
      "metadata": {
        "id": "ycyIZiPnudVd"
      },
      "source": [
        "Zdefiniowanie ścieżki do zapisów checkpointów"
      ]
    },
    {
      "cell_type": "code",
      "metadata": {
        "colab": {
          "base_uri": "https://localhost:8080/"
        },
        "id": "RkRnkSPvg46t",
        "outputId": "c2e88144-0565-48c8-e909-733fe91b96b0"
      },
      "source": [
        "filepath = \"/content/drive/My Drive/01_Dane/ptaki_cnn.hdf5\"\n",
        "checkpoint = callbacks.ModelCheckpoint(filepath, monitor= 'val_loss', save_best_only=True, mode ='min', verbose=1)"
      ],
      "execution_count": null,
      "outputs": [
        {
          "output_type": "execute_result",
          "data": {
            "text/plain": [
              "<tensorflow.python.keras.callbacks.ModelCheckpoint at 0x7f444fb6d190>"
            ]
          },
          "metadata": {
            "tags": []
          },
          "execution_count": 86
        }
      ]
    },
    {
      "cell_type": "markdown",
      "metadata": {
        "id": "vRNsHf0Muj2g"
      },
      "source": [
        "Logi"
      ]
    },
    {
      "cell_type": "code",
      "metadata": {
        "id": "zI5RXLrdg0JQ"
      },
      "source": [
        "logdir = os.path.join(\"./logs\", datetime.datetime.now().strftime(\"%Y%m%d-%H%M%S\"))\n",
        "tensorboard_callback = keras.callbacks.TensorBoard(logdir)"
      ],
      "execution_count": null,
      "outputs": []
    },
    {
      "cell_type": "markdown",
      "metadata": {
        "id": "V4NUYkG3uo7E"
      },
      "source": [
        "Trening modelu"
      ]
    },
    {
      "cell_type": "code",
      "metadata": {
        "id": "Bx2GaMgbhGTs"
      },
      "source": [
        "history = model.fit_generator(generator=train_set, epochs=15, shuffle=True, \n",
        "                              validation_data= val_set, \n",
        "                              callbacks =[checkpoint, tensorboard_callback], verbose=1) "
      ],
      "execution_count": null,
      "outputs": []
    },
    {
      "cell_type": "markdown",
      "metadata": {
        "id": "bxQfQh6husyq"
      },
      "source": [
        "Wczytanie wyestymownaych wag modelu"
      ]
    },
    {
      "cell_type": "code",
      "metadata": {
        "id": "TcSgYQx69Wgb"
      },
      "source": [
        "model.load_weights('/content/drive/My Drive/01_Dane/ptaki_cnn.hdf5')"
      ],
      "execution_count": 11,
      "outputs": []
    },
    {
      "cell_type": "markdown",
      "metadata": {
        "id": "ODqssmJ-xfIg"
      },
      "source": [
        "Moc na zbiorze train"
      ]
    },
    {
      "cell_type": "code",
      "metadata": {
        "colab": {
          "base_uri": "https://localhost:8080/"
        },
        "id": "1NEeD0l5wR-b",
        "outputId": "71fcfb47-ed93-4c5d-d678-514f294ba1fd"
      },
      "source": [
        "model.evaluate(train_set)"
      ],
      "execution_count": 13,
      "outputs": [
        {
          "output_type": "stream",
          "text": [
            "7/7 [==============================] - 232s 36s/step - loss: 3.4013 - accuracy: 0.0429\n"
          ],
          "name": "stdout"
        },
        {
          "output_type": "execute_result",
          "data": {
            "text/plain": [
              "[3.401256799697876, 0.04285714402794838]"
            ]
          },
          "metadata": {
            "tags": []
          },
          "execution_count": 13
        }
      ]
    },
    {
      "cell_type": "markdown",
      "metadata": {
        "id": "7lUMNbbNuv6b"
      },
      "source": [
        "Moc na zbiorze testowym"
      ]
    },
    {
      "cell_type": "code",
      "metadata": {
        "colab": {
          "base_uri": "https://localhost:8080/"
        },
        "id": "nvYY360G9cwx",
        "outputId": "5d9559aa-9005-4e28-dc40-298c5e029ae9"
      },
      "source": [
        "model.evaluate(test_set)"
      ],
      "execution_count": 12,
      "outputs": [
        {
          "output_type": "stream",
          "text": [
            "2/2 [==============================] - 56s 7s/step - loss: 3.4012 - accuracy: 0.0222\n"
          ],
          "name": "stdout"
        },
        {
          "output_type": "execute_result",
          "data": {
            "text/plain": [
              "[3.401202917098999, 0.03333333507180214]"
            ]
          },
          "metadata": {
            "tags": []
          },
          "execution_count": 12
        }
      ]
    },
    {
      "cell_type": "code",
      "metadata": {
        "id": "E9FKWrXbf3KT"
      },
      "source": [
        "#https://www.kaggle.com/amritvirsinghx/cnn-under-30-mins-chest-x-raytutorial"
      ],
      "execution_count": null,
      "outputs": []
    }
  ]
}